{
  "nbformat": 4,
  "nbformat_minor": 0,
  "metadata": {
    "colab": {
      "provenance": []
    },
    "kernelspec": {
      "name": "python3",
      "display_name": "Python 3"
    },
    "language_info": {
      "name": "python"
    }
  },
  "cells": [
    {
      "cell_type": "markdown",
      "source": [
        "## **Number Theory**\n",
        "\n",
        "\n",
        "\n",
        "\n",
        "---\n",
        "\n",
        "\n",
        "---\n",
        "\n",
        "\n",
        "\n",
        "#### **Natural numbers** - These are the numbers 1, 2, 3, 4, 5…and so on. Only positive numbers are included here.\n",
        "\n",
        "#### **Whole numbers** - Adding to natural numbers, the concept of “0” was later accepted.\n",
        "\n",
        "#### **Integers** - Integers include positive and negative natural numbers as well as 0.\n",
        "\n",
        "#### **Rational numbers** - Any number that you can express as a fraction, such as 2/3, is a rational number. They are called rational because they are ratios.\n",
        "\n",
        "#### **Irrational numbers** - Irrational numbers cannot be expressed as a fraction. This includes the famous π, square roots of certain numbers like 2, and Euler’s number e.\n",
        "\n",
        "#### **Real numbers** - Real numbers include rational as well as irrational numbers.\n",
        "\n",
        "#### **Complex and imaginary numbers** - You encounter this number type when you take the square root of a negative number. \n",
        "\n",
        "\n",
        "---\n",
        "\n",
        "\n",
        "## **Order of Operations**\n",
        "\n",
        "\n",
        "\n",
        "---\n",
        "\n",
        "---\n",
        "\n",
        "\n",
        "\n",
       
        "\n",
        "\n",
        "\n",
        "\n",
        "\n",
        "#### **Order of Operations** - Hopefully, you are familiar with order of operations, which is the order you solve each part of a mathematical expression. You can remember the order of operations by the mnemonic device **PEMDAS (Please Excuse My Dear Aunt Sally)**, which corresponds to the ordering parentheses, exponents, multiplication, division, addition, and subtraction."
      ],
      "metadata": {
        "id": "FgRluG-dL4mm"
      }
    },
    {
      "cell_type": "code",
      "execution_count": 1,
      "metadata": {
        "colab": {
          "base_uri": "https://localhost:8080/"
        },
        "id": "IvVftT1cLrUm",
        "outputId": "1ecaa111-54ae-429d-b947-455578ec5e13"
      },
      "outputs": [
        {
          "output_type": "stream",
          "name": "stdout",
          "text": [
            "721.0\n"
          ]
        }
      ],
      "source": [
        "order = 10 * (15 + 12) ** 2 / 10 - 8\n",
        "print(order)"
      ]
    },
    {
      "cell_type": "code",
      "source": [
        "order = 10 * ((15 + 12) ** 2 / 10) - 8\n",
        "print(order)"
      ],
      "metadata": {
        "colab": {
          "base_uri": "https://localhost:8080/"
        },
        "id": "z3kivGdfSkNP",
        "outputId": "fb778690-04fe-44b5-a419-ecc4790b9ac4"
      },
      "execution_count": 2,
      "outputs": [
        {
          "output_type": "stream",
          "name": "stdout",
          "text": [
            "721.0\n"
          ]
        }
      ]
    },
    {
      "cell_type": "markdown",
      "source": [
        "## **Variables**\n",
        "\n",
        "\n",
        "---\n",
        "\n",
        "---\n",
        "\n",
        "\n",
        "\n",
        "---\n",
        "\n",
        "\n",
        "\n",
        "\n",
        "In mathematics, a variable is a named placeholder for an unspecified or unknown number."
      ],
      "metadata": {
        "id": "e-CxMcg2S0I2"
      }
    },
    {
      "cell_type": "code",
      "source": [],
      "metadata": {
        "id": "MCZBXm4eSnl1"
      },
      "execution_count": 2,
      "outputs": []
    }
  ]
}
